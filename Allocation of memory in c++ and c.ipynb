{
 "cells": [
  {
   "cell_type": "markdown",
   "metadata": {},
   "source": [
    "When we use the term <u><b>allocate</u></b> , we indicate that the variable is given an area of memory to store its value. A variable is <u><b>deallocated</u></b> when the system reclaims the memory from the variable, so it no longer has an area to store its value. For a variable, the period of time from its allocation until its deallocation is called its <b><u>lifetime</u></b>. "
   ]
  },
  {
   "cell_type": "markdown",
   "metadata": {},
   "source": [
    "### memory is allocated when we declare a variable whether we initialise it or not."
   ]
  },
  {
   "cell_type": "markdown",
   "metadata": {},
   "source": [
    "# Local/Automatic Variables"
   ]
  },
  {
   "cell_type": "markdown",
   "metadata": {},
   "source": [
    "#### This come under Automatic Memory Allocation\n",
    "The most common variables we use are local variables within functions such as the variables number and result in the following function.The variables are called local to represent the idea that their lifetime is tied to the function where they are declared. Whenever the function runs, its local variables are allocated. When the function exits, its locals are deallocated. Local variables continue to exist even if the function temporarily passes off the thread of control by calling another function.\n",
    "<b>Local parameters are basically local copies of the information from the caller. This is also known as pass by value.</b>"
   ]
  },
  {
   "cell_type": "markdown",
   "metadata": {},
   "source": [
    "# A common bug: a function returning a pointer to a local variable"
   ]
  },
  {
   "cell_type": "code",
   "execution_count": null,
   "metadata": {},
   "outputs": [],
   "source": [
    "int* local_pointer() \n",
    "{\n",
    "int temp = 100;\n",
    "// returns a pointer to the local int\n",
    "return(&temp); \n",
    "}\n",
    "\n",
    "int main()\n",
    "{\n",
    "int* ptr = local_pointer();\n",
    "return 0;\n",
    "}"
   ]
  },
  {
   "cell_type": "markdown",
   "metadata": {},
   "source": [
    "local_pointer() is actually fine while it is running but the problem is that the local variable <b>temp</b>, is allocated only while local_pointer() is running. When local_pointer() exits, all of its locals are deallocated. So the caller is left with a pointer to a deallocated variable. We want the int to exist, but it gets deallocated automatically. Not all uses of & between functions are incorrect - only when used to pass a pointer back to the caller.When we actually run the small code, it appears to be Ok but the function returns a pointer to a value which existed intially when the function was running but when the function exit then pointer returned points to a memory to which no variable is allocated memory, in other words pointer is just pointing to a random memory and thus has no signifance.\n",
    "### how to resolve this problem?"
   ]
  },
  {
   "cell_type": "code",
   "execution_count": null,
   "metadata": {},
   "outputs": [],
   "source": [
    "int * pointerToStatic() {\n",
    "    static i;\n",
    "    return &i;\n",
    "}"
   ]
  },
  {
   "cell_type": "markdown",
   "metadata": {},
   "source": [
    "This says that i is static and thus we allocate it once and we do not want to deallocate it as long as the \n",
    "code is running."
   ]
  },
  {
   "cell_type": "markdown",
   "metadata": {},
   "source": [
    "# Types of Memory Allocation"
   ]
  },
  {
   "cell_type": "markdown",
   "metadata": {},
   "source": [
    "### It can be either classified as Static and Dynamic or Automatic and Manual Memory Allocation\n",
    "### you will surely be able to classify all types of memory allocations under these 4 topics.(vvip)\n",
    "### basic\n",
    "#### stack: All variables declared inside any function takes up memory from the stack. It means that once memory is allocated to the variable then it will only be deallocated when program ends.We call it stack memory allocation because the allocation happens in function call stack. \n",
    "#### heap: It is the unused memory of the program and can be used to dynamically allocate the memory at runtime.\n",
    "<img width=\"681\" alt=\"Screenshot 2019-06-05 at 10 37 15 AM\" src=\"https://user-images.githubusercontent.com/42070734/58932540-c2c91600-8781-11e9-814f-ce097fc79aca.png\">\n"
   ]
  },
  {
   "cell_type": "markdown",
   "metadata": {},
   "source": [
    "### Static"
   ]
  },
  {
   "cell_type": "markdown",
   "metadata": {},
   "source": [
    "Memory used by declaring a variable static. This type of memory lives for the entire time the program is running, and usually is located in the data segment of the executable from the C program being run."
   ]
  },
  {
   "cell_type": "markdown",
   "metadata": {},
   "source": [
    "### Dynamic"
   ]
  },
  {
   "cell_type": "markdown",
   "metadata": {},
   "source": [
    "It is the manual memory allocation. It is programmers responsibility to deallocate memory when no longer needed. If programmer doesn’t deallocate memory, it causes memory leak (memory is not deallocated until program terminates).C uses <b>malloc() and calloc()</b> function to allocate memory dynamically at run time and uses free() function to free dynamically allocated memory. C++ supports these functions and also has two operators <b>new and delete</b> that perform the task of allocating and freeing the memory in a better and easier way."
   ]
  },
  {
   "cell_type": "markdown",
   "metadata": {},
   "source": [
    "The <b>new operator</b> denotes a request for memory allocation on the Heap. If sufficient memory is available, new operator initializes the memory and returns the address of the newly allocated and initialized memory to the pointer variable."
   ]
  },
  {
   "cell_type": "markdown",
   "metadata": {},
   "source": [
    "## New Operator"
   ]
  },
  {
   "cell_type": "markdown",
   "metadata": {},
   "source": [
    "#### Syntax to use new operator: To allocate memory of any data type, the syntax is:\n",
    "#### int *p= NULL\n",
    "#### p= new int\n",
    "#### or\n",
    "#### int *p= new int\n",
    "#### or\n",
    "#### int *p=new int(25)  , it means cout<<*p will yield 25   \n",
    " "
   ]
  },
  {
   "cell_type": "markdown",
   "metadata": {},
   "source": [
    "### Allocate block of memory/ declaring array using dynamic initialisation :"
   ]
  },
  {
   "cell_type": "markdown",
   "metadata": {},
   "source": [
    "int *arr= new int[10]"
   ]
  },
  {
   "cell_type": "markdown",
   "metadata": {},
   "source": [
    "### Normal Array Declaration vs Using new\n",
    "There is a difference between declaring a normal array and allocating a block of memory using new. The most important \n",
    "difference is, normal arrays are deallocated by compiler (If array is local, then deallocated when function returns or completes). However, dynamically allocated arrays always remain there until either they are deallocated by programmer or program terminates.\n",
    "\n",
    "### What if enough memory is not available during runtime?\n",
    "If enough memory is not available in the heap to allocate, the new request indicates failure by throwing an exception\n",
    "of type std::bad_alloc, unless “nothrow” is used with the new operator, in which case it returns a NULL pointer (scroll to section “Exception handling of new operator” in this article). Therefore, it may be good idea to check for\n",
    "the pointer variable produced by new before using it program.\n"
   ]
  },
  {
   "cell_type": "code",
   "execution_count": null,
   "metadata": {},
   "outputs": [],
   "source": [
    "int *p = new(nothrow) int;\n",
    "if (!p)\n",
    "{\n",
    "   cout << \"Memory allocation failed\\n\";\n",
    "}"
   ]
  },
  {
   "cell_type": "markdown",
   "metadata": {},
   "source": [
    "## Delete Operator"
   ]
  },
  {
   "cell_type": "markdown",
   "metadata": {},
   "source": [
    "Since it is programmer’s responsibility to deallocate dynamically allocated memory, programmers are provided delete \n",
    "operator by C++ language.\n",
    "## vvip- you can't use delete operator for variables that are not allocated memory using new.\n",
    "#### Syntax:\n",
    "##### Release memory pointed by pointer-variable\n",
    "delete pointer-variable;\n",
    "##### Release block of memory \n",
    "delete[ ] pointer-variable; "
   ]
  },
  {
   "cell_type": "markdown",
   "metadata": {},
   "source": [
    "##### Example"
   ]
  },
  {
   "cell_type": "code",
   "execution_count": null,
   "metadata": {},
   "outputs": [],
   "source": [
    "#include <iostream> \n",
    "using namespace std; \n",
    "  \n",
    "int main () \n",
    "{ \n",
    "    int* p = NULL; \n",
    "    p = new(nothrow) int; \n",
    "    if (!p) \n",
    "        cout << \"allocation of memory failed\\n\"; \n",
    "    else\n",
    "    { \n",
    "        *p = 29; \n",
    "        cout << \"Value of p: \" << *p << endl; \n",
    "    } \n",
    "    float *r = new float(75.25); \n",
    "    cout << \"Value of r: \" << *r << endl; \n",
    "    int n = 5; \n",
    "    int *q = new(nothrow) int[n]; \n",
    "  \n",
    "    if (!q) \n",
    "        cout << \"allocation of memory failed\\n\"; \n",
    "    else\n",
    "    { \n",
    "        for (int i = 0; i < n; i++) \n",
    "            q[i] = i+1; \n",
    "  \n",
    "        cout << \"Value store in block of memory: \"; \n",
    "        for (int i = 0; i < n; i++) \n",
    "            cout << q[i] << \" \"; \n",
    "    } \n",
    "    delete p; \n",
    "    delete r; \n",
    "    delete[] q; \n",
    "    return 0; \n",
    "} "
   ]
  },
  {
   "cell_type": "markdown",
   "metadata": {},
   "source": [
    "# Memory Management in C - malloc(), calloc(), free() and realloc()"
   ]
  },
  {
   "cell_type": "markdown",
   "metadata": {},
   "source": [
    "“Malloc” or “memory allocation” method is used to dynamically allocate a single large block of memory with the\n",
    "specified size. It returns a pointer of type void which can be cast into a pointer of any form.\n",
    "<img src=\"https://user-images.githubusercontent.com/42070734/58900280-81524f80-871c-11e9-872a-2e48a15a3c68.png\">"
   ]
  },
  {
   "cell_type": "markdown",
   "metadata": {},
   "source": [
    "“calloc” or “contiguous allocation” method is used to dynamically allocate the specified number of blocks of memory of\n",
    "the specified type. It initializes each block with a default value ‘0’.\n",
    "<img src=\"https://user-images.githubusercontent.com/42070734/58900469-dbebab80-871c-11e9-980b-bc2f2b394b5a.png\">"
   ]
  },
  {
   "cell_type": "markdown",
   "metadata": {},
   "source": [
    "“free” method is used to dynamically de-allocate the memory. The memory allocated using functions malloc() and \n",
    "calloc() are not de-allocated on their own. Hence the free() method is used, whenever the dynamic memory allocation \n",
    "takes place. It helps to reduce wastage of memory by freeing it.\n",
    "<img src=\"https://user-images.githubusercontent.com/42070734/58900500-e8700400-871c-11e9-959a-5be2d062d5ec.png\">"
   ]
  },
  {
   "cell_type": "markdown",
   "metadata": {},
   "source": [
    "“realloc” or “re-allocation” method is used to dynamically change the memory allocation of a previously allocated memory. In other words, if the memory previously allocated with the help of malloc or calloc is insufficient, realloc can be used to dynamically re-allocate memory.If the space is insufficient, allocation fails and returns a NULL pointer.\n",
    "<img src=\"https://user-images.githubusercontent.com/42070734/58900040-fa04dc00-871b-11e9-901b-26a5fe1d827b.png\">"
   ]
  },
  {
   "cell_type": "markdown",
   "metadata": {},
   "source": [
    "# Difference between malloc( ) and new\n",
    "\n",
    "<img src=\"https://user-images.githubusercontent.com/42070734/58900897-a98e7e00-871d-11e9-9616-4aa679de18d1.png\">\n",
    "\n",
    "# Don't get Confused by free store , free store and heap are 2 names of same entity. so this point in table is actually similarity of malloc( ) and new."
   ]
  }
 ],
 "metadata": {
  "celltoolbar": "Raw Cell Format",
  "kernelspec": {
   "display_name": "C++14",
   "language": "C++14",
   "name": "xcpp14"
  },
  "language_info": {
   "codemirror_mode": "text/x-c++src",
   "file_extension": ".cpp",
   "mimetype": "text/x-c++src",
   "name": "c++",
   "version": "-std=c++14"
  }
 },
 "nbformat": 4,
 "nbformat_minor": 2
}
