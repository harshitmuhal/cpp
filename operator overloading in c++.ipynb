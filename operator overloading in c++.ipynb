{
 "cells": [
  {
   "cell_type": "markdown",
   "metadata": {},
   "source": [
    "# Operator Overloading"
   ]
  },
  {
   "cell_type": "markdown",
   "metadata": {},
   "source": [
    "It is a type of polymorphism in which an operator is overloaded to give user defined meaning to it. Overloaded operator is used to perform operation on user-defined data type. For example '+' operator can be overloaded to perform addition on various data types, like for Integer, String(concatenation) etc.\n",
    "### Almost any operator can be overloaded in C++. However there are few operator which can not be overloaded. Operator that are not overloaded are follows\n",
    "<ol>\n",
    "    <li>scope operator - ::</li>\n",
    "    <li>sizeof</li>\n",
    "    <li>ternary operator - ?:</li>\n",
    "    <li>member pointer selector - *</li>\n",
    "    <li>member selector - .</li>\n",
    "</ol>\n",
    "<img width=\"698\" alt=\"Screenshot 2019-06-05 at 11 59 08 AM\" src=\"https://user-images.githubusercontent.com/42070734/58934893-60741380-8789-11e9-9d62-11d0e1631490.png\">"
   ]
  },
  {
   "cell_type": "markdown",
   "metadata": {},
   "source": [
    "# Types of Operator Overloading in C++\n",
    "Operator Overloading can be done by using three approaches, they are-\n",
    "<ol>\n",
    "<li>Overloading unary operator.</li>\n",
    "<li>Overloading binary operator.</li>\n",
    "<li>Overloading binary operator using a friend function.</li></ol>\n",
    "\n",
    "# Below are some criteria/rules to define the operator function:\n",
    "<ol><li>In case of a non-static function, the binary operator should have only one argument and unary should not have an argument.</li>\n",
    "<li>In the case of a friend function, the binary operator should have only two argument and unary should have only one argument.</li>\n",
    "<li>All the class member object should be public if operator overloading is implemented.</li>\n",
    "<li>Operators that cannot be overloaded are . .* :: ?:</li>\n",
    "<li>Operator cannot be used to overload when declaring that function as friend function = () [] ->.</li></ol>\n",
    "\n",
    "#### Examples"
   ]
  },
  {
   "cell_type": "code",
   "execution_count": null,
   "metadata": {},
   "outputs": [],
   "source": [
    "#include <iostream>\n",
    "using namespace std;\n",
    "\n",
    "class unary_operator_overloading{\n",
    "public:\n",
    "    void operator -(){\n",
    "        cout<<\"working\"<<endl;\n",
    "    }\n",
    "};\n",
    "int main() {\n",
    "    unary_operator_overloading var;\n",
    "    -var;\n",
    "    return 0;\n",
    "}"
   ]
  },
  {
   "cell_type": "markdown",
   "metadata": {},
   "source": [
    "#### output\n",
    "working"
   ]
  },
  {
   "cell_type": "code",
   "execution_count": null,
   "metadata": {},
   "outputs": [],
   "source": [
    "#include <iostream>\n",
    "using namespace std;\n",
    "\n",
    "class complex{\n",
    "public:\n",
    "    int r,i;\n",
    "    complex(){\n",
    "        r=0;\n",
    "        i=0;\n",
    "    }\n",
    "    complex(int real,int imag){\n",
    "        r=real;\n",
    "        i=imag;\n",
    "    }\n",
    "    complex operator +(complex var){\n",
    "        complex required;\n",
    "        required.r=r+var.r;\n",
    "        required.i=i+var.i;\n",
    "        return required;\n",
    "    }\n",
    "};\n",
    "int main() {\n",
    "    complex var1(1,2);\n",
    "    complex var2(3,4);\n",
    "    complex var3=var1+var2;\n",
    "    cout<<var3.r<<\"+i\"<<var3.i<<endl;\n",
    "    return 0;\n",
    "}"
   ]
  },
  {
   "cell_type": "markdown",
   "metadata": {},
   "source": [
    "#### output\n",
    "4+i6\n",
    "\n",
    "### using friend keyword"
   ]
  },
  {
   "cell_type": "code",
   "execution_count": null,
   "metadata": {},
   "outputs": [],
   "source": [
    "#include <iostream> \n",
    "  \n",
    "using namespace std; \n",
    "  \n",
    "class Distance { \n",
    "public:  \n",
    "    int feet, inch; \n",
    "    Distance() \n",
    "    { \n",
    "        this->feet = 0; \n",
    "        this->inch = 0; \n",
    "    } \n",
    "    Distance(int f, int i) \n",
    "    { \n",
    "        this->feet = f; \n",
    "        this->inch = i; \n",
    "    } \n",
    "    friend Distance operator+(Distance&, Distance&); \n",
    "}; \n",
    "  \n",
    "Distance operator+(Distance& d1, Distance& d2) // Call by reference \n",
    "{ \n",
    "    Distance d3; \n",
    "    d3.feet = d1.feet + d2.feet; \n",
    "    d3.inch = d1.inch + d2.inch;  \n",
    "    return d3; \n",
    "} \n",
    "  \n",
    "int main() \n",
    "{   Distance d1(8, 9); \n",
    "    Distance d2(10, 2); \n",
    "    Distance d3; \n",
    "    d3 = d1 + d2; \n",
    "    cout << \"\\nTotal Feet & Inches: \" << d3.feet << \"'\" << d3.inch; \n",
    "    return 0; \n",
    "} "
   ]
  },
  {
   "cell_type": "markdown",
   "metadata": {},
   "source": [
    "#### Output:\n",
    "Total Feet & Inches: 18'11"
   ]
  },
  {
   "cell_type": "markdown",
   "metadata": {},
   "source": [
    "# Restrictions on Operator Overloading in C++\n",
    "### Following are some restrictions to be kept in mind while implementing operator overloading-\n",
    "#### Precedence and Associativity of an operator cannot be changed.\n",
    "#### Arity (numbers of Operands) cannot be changed. Unary operator remains unary, binary remains binary etc.\n",
    "#### No new operators can be created, only existing operators can be overloaded.\n",
    "#### Cannot redefine the meaning of a procedure. You cannot change how integers are added"
   ]
  }
 ],
 "metadata": {
  "kernelspec": {
   "display_name": "C++14",
   "language": "C++14",
   "name": "xcpp14"
  },
  "language_info": {
   "codemirror_mode": "text/x-c++src",
   "file_extension": ".cpp",
   "mimetype": "text/x-c++src",
   "name": "c++",
   "version": "-std=c++14"
  }
 },
 "nbformat": 4,
 "nbformat_minor": 2
}
